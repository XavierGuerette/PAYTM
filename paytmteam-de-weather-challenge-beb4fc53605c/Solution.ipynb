{
 "cells": [
  {
   "cell_type": "code",
   "execution_count": 1,
   "metadata": {},
   "outputs": [],
   "source": [
    "import pyspark\n",
    "from pyspark.sql import SparkSession"
   ]
  },
  {
   "cell_type": "code",
   "execution_count": 129,
   "metadata": {},
   "outputs": [],
   "source": [
    "from pyspark.sql import functions as f\n",
    "from pyspark.sql.window import Window\n",
    "from pyspark.sql.types import *"
   ]
  },
  {
   "cell_type": "code",
   "execution_count": 2,
   "metadata": {},
   "outputs": [],
   "source": [
    "spark = SparkSession.builder \\\n",
    "            .getOrCreate()"
   ]
  },
  {
   "cell_type": "code",
   "execution_count": 4,
   "metadata": {},
   "outputs": [],
   "source": [
    "### Step 1 - Settng Up the Data ###"
   ]
  },
  {
   "cell_type": "code",
   "execution_count": 54,
   "metadata": {},
   "outputs": [],
   "source": [
    "# 1. Load the global weather data into your big data technology of choice.\n",
    "\n",
    "# Load Country List\n",
    "country_list = spark.read.format(\"csv\") \\\n",
    "        .option(\"header\", \"true\") \\\n",
    "        .load(f\"countrylist.csv\")\n",
    "\n",
    "# Station Lists\n",
    "station_list = spark.read.format(\"csv\") \\\n",
    "    .option(\"header\", \"true\") \\\n",
    "    .load(f\"stationlist.csv\")\n",
    "\n",
    "# Global Weather\n",
    "global_weather = spark.read.format(\"csv\") \\\n",
    "    .option(\"header\", \"true\") \\\n",
    "    .load(f\"./data/2019\") \\\n",
    "    .withColumnRenamed('STN---', 'STN')"
   ]
  },
  {
   "cell_type": "code",
   "execution_count": 55,
   "metadata": {},
   "outputs": [],
   "source": [
    "country_list_suf = country_list.select(*[f.col(column).alias(f\"{column}_CL\") for column in country_list.columns])\n",
    "station_list_suf = station_list.select(*[f.col(column).alias(f\"{column}_SL\") for column in station_list.columns])"
   ]
  },
  {
   "cell_type": "code",
   "execution_count": 56,
   "metadata": {},
   "outputs": [
    {
     "name": "stdout",
     "output_type": "stream",
     "text": [
      "+---------+-------------------+---------------+---------------+\n",
      "|STN_NO_SL|    COUNTRY_FULL_CL|COUNTRY_ABBR_CL|COUNTRY_ABBR_SL|\n",
      "+---------+-------------------+---------------+---------------+\n",
      "|   789820|              ARUBA|             AA|             AA|\n",
      "|   788620|ANTIGUA AND BARBUDA|             AC|             AC|\n",
      "|   998441|ANTIGUA AND BARBUDA|             AC|             AC|\n",
      "|   788610|ANTIGUA AND BARBUDA|             AC|             AC|\n",
      "|   409794|        AFGHANISTAN|             AF|             AF|\n",
      "+---------+-------------------+---------------+---------------+\n",
      "only showing top 5 rows\n",
      "\n"
     ]
    }
   ],
   "source": [
    "# 2. Join the stationlist.csv with the countrylist.csv to get the full \n",
    "# country name for each station number.\n",
    "full_country_name = country_list_suf \\\n",
    "    .join(station_list_suf, country_list_suf.COUNTRY_ABBR_CL == station_list_suf.COUNTRY_ABBR_SL,\n",
    "          'left') \\\n",
    "    .select(*['STN_NO_SL', 'COUNTRY_FULL_CL', 'COUNTRY_ABBR_CL', 'COUNTRY_ABBR_SL'])\n",
    "\n",
    "full_country_name.show(n = 5)"
   ]
  },
  {
   "cell_type": "code",
   "execution_count": 58,
   "metadata": {},
   "outputs": [],
   "source": [
    "# 3. Join the global weather data with the full country names by station number.\n",
    "# Leaking : 4158416 (Weather) versus 4156323 After Join\n",
    "weather_by_station = full_country_name \\\n",
    "    .join(global_weather, full_country_name.STN_NO_SL == global_weather.STN, 'left')"
   ]
  },
  {
   "cell_type": "code",
   "execution_count": 77,
   "metadata": {},
   "outputs": [
    {
     "name": "stdout",
     "output_type": "stream",
     "text": [
      "root\n",
      " |-- STN_NO_SL: string (nullable = true)\n",
      " |-- COUNTRY_FULL_CL: string (nullable = true)\n",
      " |-- COUNTRY_ABBR_CL: string (nullable = true)\n",
      " |-- COUNTRY_ABBR_SL: string (nullable = true)\n",
      " |-- STN: string (nullable = true)\n",
      " |-- WBAN: string (nullable = true)\n",
      " |-- YEARMODA: string (nullable = true)\n",
      " |-- TEMP: string (nullable = true)\n",
      " |-- DEWP: string (nullable = true)\n",
      " |-- SLP: string (nullable = true)\n",
      " |-- STP: string (nullable = true)\n",
      " |-- VISIB: string (nullable = true)\n",
      " |-- WDSP: string (nullable = true)\n",
      " |-- MXSPD: string (nullable = true)\n",
      " |-- GUST: string (nullable = true)\n",
      " |-- MAX: string (nullable = true)\n",
      " |-- MIN: string (nullable = true)\n",
      " |-- PRCP: string (nullable = true)\n",
      " |-- SNDP: string (nullable = true)\n",
      " |-- FRSHTT: string (nullable = true)\n",
      "\n"
     ]
    }
   ],
   "source": [
    "weather_by_station.printSchema()"
   ]
  },
  {
   "cell_type": "code",
   "execution_count": 106,
   "metadata": {},
   "outputs": [
    {
     "name": "stdout",
     "output_type": "stream",
     "text": [
      "+---------------+-----------------+\n",
      "|COUNTRY_FULL_CL|             TEMP|\n",
      "+---------------+-----------------+\n",
      "|       DJIBOUTI|90.06114474836602|\n",
      "+---------------+-----------------+\n",
      "only showing top 1 row\n",
      "\n"
     ]
    }
   ],
   "source": [
    "### Step 2 - Questions ###\n",
    "\n",
    "# NOTE : STATIONs without a Corresponding STN_NO in 'station_list' were intentionally left out...\n",
    "\n",
    "# 1. Which country had the hottest average mean temperature over the year? # DJIBOUTI\n",
    "weather_by_station \\\n",
    "    .withColumn(\"TEMP\", weather_by_station['TEMP'].cast(FloatType())) \\\n",
    "    .filter(~f.col(\"TEMP\").isNull()) \\\n",
    "    .groupby(*['COUNTRY_FULL_CL', ]) \\\n",
    "    .agg({\"TEMP\" : \"avg\"}) \\\n",
    "    .select(*['COUNTRY_FULL_CL', f.col('avg(TEMP)').alias('TEMP'), ]) \\\n",
    "    .orderBy(f.desc('TEMP')).show(n = 1)"
   ]
  },
  {
   "cell_type": "code",
   "execution_count": 135,
   "metadata": {},
   "outputs": [],
   "source": [
    "# 2. Which country had the most consecutive days of tornadoes/funnel cloud formations?\n",
    "\n",
    "# NOTE : Incomplete\n",
    "\n",
    "dates_for_2019 = weather_by_station \\\n",
    "    .select([f.to_date(f.col('YEARMODA'), 'yyyyMMdd')]) \\\n",
    "    .distinct()\n",
    "\n",
    "window = Window.partitionBy('COUNTRY_FULL_CL').orderBy('YEARMODA')\n",
    "\n",
    "weather_by_station_tornado_funnel = weather_by_station \\\n",
    "    .select([f.to_date(f.col('YEARMODA'), 'yyyyMMdd').alias('YEARMODA'), 'FRSHTT', 'COUNTRY_FULL_CL', ]) \\\n",
    "    .filter(f.col('FRSHTT').endswith('1').alias('FRSHTT')) \\\n",
    "    .select(*['COUNTRY_FULL_CL', 'YEARMODA', 'FRSHTT', ]) \\\n",
    "    .distinct() \\\n",
    "    .orderBy(*['COUNTRY_FULL_CL', 'YEARMODA', 'FRSHTT'], asc = [True, True, True, ]) \\\n",
    "    .select(*['COUNTRY_FULL_CL', 'YEARMODA', 'FRSHTT', f.lag('YEARMODA', 1).over(window).alias('PREV_YEARMODA')])"
   ]
  },
  {
   "cell_type": "code",
   "execution_count": 136,
   "metadata": {},
   "outputs": [
    {
     "data": {
      "text/plain": [
       "232"
      ]
     },
     "execution_count": 136,
     "metadata": {},
     "output_type": "execute_result"
    }
   ],
   "source": [
    "weather_by_station_tornado_funnel.filter(f.col('PREV_YEARMODA').isNotNull() == True).count()"
   ]
  },
  {
   "cell_type": "code",
   "execution_count": 109,
   "metadata": {},
   "outputs": [
    {
     "name": "stdout",
     "output_type": "stream",
     "text": [
      "+---------------+------------------+\n",
      "|COUNTRY_FULL_CL|              WDSP|\n",
      "+---------------+------------------+\n",
      "|          GABON|485.17948985044114|\n",
      "|        ARMENIA| 457.3659429499847|\n",
      "+---------------+------------------+\n",
      "only showing top 2 rows\n",
      "\n"
     ]
    }
   ],
   "source": [
    "# 3. Which country had the second highest average mean wind speed over the year?\n",
    "weather_by_station \\\n",
    "    .withColumn(\"WDSP\", weather_by_station['WDSP'].cast(FloatType())) \\\n",
    "    .filter(~f.col('WDSP').isNull()) \\\n",
    "    .groupby(*['COUNTRY_FULL_CL', ]) \\\n",
    "    .agg({\"WDSP\" : \"avg\"}) \\\n",
    "    .select(*['COUNTRY_FULL_CL', f.col('avg(WDSP)').alias('WDSP')]) \\\n",
    "    .orderBy(f.desc(\"WDSP\")) \\\n",
    "    .show(n = 2)"
   ]
  },
  {
   "cell_type": "code",
   "execution_count": 10,
   "metadata": {},
   "outputs": [
    {
     "data": {
      "text/plain": [
       "288"
      ]
     },
     "execution_count": 10,
     "metadata": {},
     "output_type": "execute_result"
    }
   ],
   "source": [
    "#### Data Discovery ####\n",
    "# 288\n",
    "country_list.count()\n",
    "# 288\n",
    "country_list.select(*['COUNTRY_ABBR', ]).distinct().count()"
   ]
  },
  {
   "cell_type": "code",
   "execution_count": 11,
   "metadata": {},
   "outputs": [
    {
     "data": {
      "text/plain": [
       "25297"
      ]
     },
     "execution_count": 11,
     "metadata": {},
     "output_type": "execute_result"
    }
   ],
   "source": [
    "# 25 297\n",
    "station_list.select(*['STN_NO', ]).distinct().count()\n",
    "# 25 306\n",
    "station_list.count()"
   ]
  },
  {
   "cell_type": "code",
   "execution_count": 47,
   "metadata": {},
   "outputs": [
    {
     "data": {
      "text/plain": [
       "[Row(STN_NO_SL=None, count(COUNTRY_ABBR_SL)=0),\n",
       " Row(STN_NO_SL='847570', count(COUNTRY_ABBR_SL)=1),\n",
       " Row(STN_NO_SL='726838', count(COUNTRY_ABBR_SL)=1),\n",
       " Row(STN_NO_SL='957560', count(COUNTRY_ABBR_SL)=1),\n",
       " Row(STN_NO_SL='704140', count(COUNTRY_ABBR_SL)=1)]"
      ]
     },
     "execution_count": 47,
     "metadata": {},
     "output_type": "execute_result"
    }
   ],
   "source": [
    "full_country_name \\\n",
    "    .groupby(*['STN_NO_SL', ]) \\\n",
    "    .agg(f.countDistinct(f.col('COUNTRY_ABBR_SL'))) \\\n",
    "    .orderBy(*[f.col('count(COUNTRY_ABBR_SL)').alias('COUNTRY_ABBR_SL'), ], asc = [False]) \\\n",
    "    .take(5)"
   ]
  },
  {
   "cell_type": "code",
   "execution_count": 30,
   "metadata": {},
   "outputs": [
    {
     "data": {
      "text/plain": [
       "[Row(STN---='010260', WBAN='99999', YEARMODA='20190101', TEMP='26.1', DEWP='21.2', SLP='1001.9', STP='987.5', VISIB='20.6', WDSP='9.0', MXSPD='15.9', GUST='29.7', MAX='29.8', MIN='21.7*', PRCP='0.02G', SNDP='18.5', FRSHTT='001000'),\n",
       " Row(STN---='010260', WBAN='99999', YEARMODA='20190102', TEMP='24.9', DEWP='22.1', SLP='1020.1', STP='1005.5', VISIB='5.4', WDSP='5.6', MXSPD='13.6', GUST='22.1', MAX='27.1*', MIN='20.7', PRCP='0.48G', SNDP='22.8', FRSHTT='001000'),\n",
       " Row(STN---='010260', WBAN='99999', YEARMODA='20190103', TEMP='31.7', DEWP='29.1', SLP='1008.9', STP='994.7', VISIB='13.6', WDSP='11.6', MXSPD='21.4', GUST='49.5', MAX='37.4*', MIN='26.8*', PRCP='0.25G', SNDP='999.9', FRSHTT='011000'),\n",
       " Row(STN---='010260', WBAN='99999', YEARMODA='20190104', TEMP='32.9', DEWP='30.3', SLP='1011.4', STP='997.1', VISIB='15.8', WDSP='4.9', MXSPD='7.8', GUST='10.9', MAX='36.1', MIN='31.8', PRCP='0.52G', SNDP='999.9', FRSHTT='001000'),\n",
       " Row(STN---='010260', WBAN='99999', YEARMODA='20190105', TEMP='35.5', DEWP='33.0', SLP='1015.7', STP='1001.4', VISIB='12.0', WDSP='10.4', MXSPD='13.6', GUST='21.0', MAX='38.5*', MIN='32.7', PRCP='0.02G', SNDP='23.6', FRSHTT='010000')]"
      ]
     },
     "execution_count": 30,
     "metadata": {},
     "output_type": "execute_result"
    }
   ],
   "source": [
    "global_weather.take(5)"
   ]
  },
  {
   "cell_type": "code",
   "execution_count": null,
   "metadata": {},
   "outputs": [],
   "source": [
    "weather_by_station.take(2)"
   ]
  },
  {
   "cell_type": "code",
   "execution_count": null,
   "metadata": {},
   "outputs": [],
   "source": []
  },
  {
   "cell_type": "code",
   "execution_count": null,
   "metadata": {},
   "outputs": [],
   "source": []
  }
 ],
 "metadata": {
  "kernelspec": {
   "display_name": "Python 3",
   "language": "python",
   "name": "python3"
  },
  "language_info": {
   "codemirror_mode": {
    "name": "ipython",
    "version": 3
   },
   "file_extension": ".py",
   "mimetype": "text/x-python",
   "name": "python",
   "nbconvert_exporter": "python",
   "pygments_lexer": "ipython3",
   "version": "3.7.3"
  }
 },
 "nbformat": 4,
 "nbformat_minor": 2
}
